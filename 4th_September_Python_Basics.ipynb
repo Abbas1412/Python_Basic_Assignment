{
 "cells": [
  {
   "cell_type": "code",
   "execution_count": 12,
   "id": "8d041d26-6aaf-4ac8-9639-e17df5c0ab45",
   "metadata": {},
   "outputs": [
    {
     "data": {
      "text/plain": [
       "(9, 10)"
      ]
     },
     "execution_count": 12,
     "metadata": {},
     "output_type": "execute_result"
    }
   ],
   "source": [
    "''' Q1. Declare two variables, `x` and `y`, and assign them integer values. Swap the\n",
    "values of these variables without using any temporary variable.'''\n",
    "\n",
    "#Code:-\n",
    "\n",
    "x = 10\n",
    "y = 9\n",
    "\n",
    "x = x + y\n",
    "\n",
    "y = x - y\n",
    "\n",
    "x = x - y\n",
    "\n",
    "#Values are Swapped for both x and y without using any other variable....\\\n",
    "x,y"
   ]
  },
  {
   "cell_type": "code",
   "execution_count": 15,
   "id": "e562c15e-c6c9-4530-ae3f-38dc58ef7db5",
   "metadata": {},
   "outputs": [
    {
     "name": "stdin",
     "output_type": "stream",
     "text": [
      "Enter the Length of rectangle: 6\n",
      "Enter the Width of rectangle: 7.6\n"
     ]
    },
    {
     "data": {
      "text/plain": [
       "45.599999999999994"
      ]
     },
     "execution_count": 15,
     "metadata": {},
     "output_type": "execute_result"
    }
   ],
   "source": [
    "''' Q2. Create a program that calculates the area of a rectangle. Take the length and\n",
    "width as inputs from the user and store them in variables. Calculate and\n",
    "display the area.'''\n",
    "\n",
    "#Code;-\n",
    "\n",
    "l = float(input(\"Enter the Length of rectangle:\"))\n",
    "w = float(input(\"Enter the Width of rectangle:\"))\n",
    "\n",
    "rectangle = l*w\n",
    "rectangle"
   ]
  },
  {
   "cell_type": "code",
   "execution_count": 19,
   "id": "fb8e05f8-c8f1-480d-b3a6-14c277a0c379",
   "metadata": {},
   "outputs": [
    {
     "name": "stdin",
     "output_type": "stream",
     "text": [
      "Enter Temprature in Celcius 32\n"
     ]
    },
    {
     "data": {
      "text/plain": [
       "89.6"
      ]
     },
     "execution_count": 19,
     "metadata": {},
     "output_type": "execute_result"
    }
   ],
   "source": [
    "'''Q3. Write a Python program that converts temperatures from Celsius to\n",
    "Fahrenheit. Take the temperature in Celsius as input, store it in a variable,\n",
    "convert it to Fahrenheit, and display the result.'''\n",
    "\n",
    "#Code;-\n",
    "\n",
    "celcius = float(input(\"Enter Temprature in Celcius\"))\n",
    "\n",
    "fahrenheit = ((9/5)*celcius) + 32\n",
    "\n",
    "fahrenheit"
   ]
  },
  {
   "cell_type": "code",
   "execution_count": 21,
   "id": "ac98cd4e-d334-476c-825b-a4e27039ad15",
   "metadata": {},
   "outputs": [],
   "source": [
    "#..........................................................................#"
   ]
  },
  {
   "cell_type": "code",
   "execution_count": 22,
   "id": "2f0aef61-bb81-40ab-b2ce-60aec46450e3",
   "metadata": {},
   "outputs": [],
   "source": [
    "#.............................<STRINGS>....................................#"
   ]
  },
  {
   "cell_type": "code",
   "execution_count": 23,
   "id": "0cdf1f63-fdc1-4b03-a41b-400c405ca0c2",
   "metadata": {},
   "outputs": [],
   "source": [
    "#..........................................................................#"
   ]
  },
  {
   "cell_type": "code",
   "execution_count": 29,
   "id": "14e59ccc-22d9-4a99-a33a-eb66f46b6b59",
   "metadata": {},
   "outputs": [
    {
     "name": "stdin",
     "output_type": "stream",
     "text": [
      " Zamin Abbas\n"
     ]
    },
    {
     "data": {
      "text/plain": [
       "11"
      ]
     },
     "execution_count": 29,
     "metadata": {},
     "output_type": "execute_result"
    }
   ],
   "source": [
    "''' Q1. Write a Python program that takes a string as input and prints the length of\n",
    "the string. '''\n",
    "\n",
    "\n",
    "s1 = str(input())\n",
    "\n",
    "#Funcion for length of string\n",
    "\n",
    "len(s1)"
   ]
  },
  {
   "cell_type": "code",
   "execution_count": 39,
   "id": "951e861e-8ceb-42f1-8ae8-ff4e6d3d5e90",
   "metadata": {},
   "outputs": [
    {
     "name": "stdin",
     "output_type": "stream",
     "text": [
      "Enter any Sentence My name is Zamin Abbas Baloch\n"
     ]
    },
    {
     "data": {
      "text/plain": [
       "8"
      ]
     },
     "execution_count": 39,
     "metadata": {},
     "output_type": "execute_result"
    }
   ],
   "source": [
    "''' Q2. Create a program that takes a sentence from the user and counts the number\n",
    "of vowels (a, e, i, o, u) in the string. '''\n",
    "\n",
    "\n",
    "s2 = str(input(\"Enter any Sentence\"))\n",
    "\n",
    "s = \"aeiou\"\n",
    "\n",
    "a = s2.count('a')\n",
    "e = s2.count('e')\n",
    "i = s2.count('i')\n",
    "o = s2.count('o')\n",
    "u = s2.count('u')\n",
    "\n",
    "a + e + i + o + u"
   ]
  },
  {
   "cell_type": "code",
   "execution_count": 33,
   "id": "da00644d-f9ce-4af5-ba8b-d135f0842954",
   "metadata": {},
   "outputs": [
    {
     "name": "stdin",
     "output_type": "stream",
     "text": [
      "Enter Anything ZAMIN\n"
     ]
    },
    {
     "data": {
      "text/plain": [
       "'NIMAZ'"
      ]
     },
     "execution_count": 33,
     "metadata": {},
     "output_type": "execute_result"
    }
   ],
   "source": [
    "''' Q3. Given a string, reverse the order of characters using string slicing and print\n",
    "the reversed string. '''\n",
    "\n",
    "s3 = str(input(\"Enter Anything\"))\n",
    "\n",
    "s3[::-1]"
   ]
  },
  {
   "cell_type": "code",
   "execution_count": 37,
   "id": "b7793ce6-dd39-4d17-b612-0c358f2dc931",
   "metadata": {},
   "outputs": [
    {
     "name": "stdin",
     "output_type": "stream",
     "text": [
      " MAHAM\n"
     ]
    },
    {
     "data": {
      "text/plain": [
       "True"
      ]
     },
     "execution_count": 37,
     "metadata": {},
     "output_type": "execute_result"
    }
   ],
   "source": [
    "''' Q4. Write a program that takes a string as input and checks if it is a palindrome\n",
    "(reads the same forwards and backwards). '''\n",
    "\n",
    "#Code:-\n",
    "\n",
    "s4 = str(input())\n",
    "\n",
    "#Storing a string in reverse order\n",
    "str1 = s4[::-1]\n",
    "\n",
    "#Checks whether the string is palindrome or not if yes return 1 else 0\n",
    "str1==s4"
   ]
  },
  {
   "cell_type": "code",
   "execution_count": null,
   "id": "120185eb-98d6-4c1f-889e-569da28a6a3c",
   "metadata": {},
   "outputs": [],
   "source": [
    "''' Q5. Create a program that takes a string as input and removes all the spaces from\n",
    "it. Print the modified string without spaces. '''\n",
    "\n",
    "#Code:-\n",
    "\n",
    "sIn = str(input())\n",
    "\n",
    "sOut = sIn.replace(\" \", \"\")\n",
    "                   \n",
    "sOut"
   ]
  }
 ],
 "metadata": {
  "kernelspec": {
   "display_name": "Python 3 (ipykernel)",
   "language": "python",
   "name": "python3"
  },
  "language_info": {
   "codemirror_mode": {
    "name": "ipython",
    "version": 3
   },
   "file_extension": ".py",
   "mimetype": "text/x-python",
   "name": "python",
   "nbconvert_exporter": "python",
   "pygments_lexer": "ipython3",
   "version": "3.10.8"
  }
 },
 "nbformat": 4,
 "nbformat_minor": 5
}
